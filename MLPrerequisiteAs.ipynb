{
  "cells": [
    {
      "cell_type": "markdown",
      "metadata": {
        "id": "Tdt7fJvbl-Fn"
      },
      "source": [
        "**Q1. How many multiplications and additions do you need to perform a matrix multiplication between a (n, k) and (k, m) matrix? Explain.**"
      ]
    },
    {
      "cell_type": "markdown",
      "metadata": {
        "id": "u9iT7sSsloKV"
      },
      "source": [
        "Let A and B be (n, k) and (k, m) matrices respectively. Let C be the (n, m) matrix we obtain after multiplying A and B.\n",
        "\n",
        "- If we intialize C as zero at first.\n",
        "- Then Any element $a_{ij}$ is going to be multiplied all the m elements of $b_{jk}$ where $k \\in [1, m]$ and each of them then added to m positions in C.\n",
        "- That implies $2m$ operations for each element in A. Thus, for $nk$ elements, there would be $2nkm$ operations.\n",
        "- But do note that at first when we only had zeroes in C, we do not actually need to perform the add operation. So, we can do it $nm$ less operations.\n",
        "\n",
        "Thus final answer is, $2nm(k-1)$."
      ]
    },
    {
      "cell_type": "markdown",
      "metadata": {
        "id": "o82QAWQvuCA9"
      },
      "source": [
        "**Q2. Write Python code to multiply the above two matrices. Solve using list of lists and then use numpy. Compare the timing of both solutions. Which one is faster? Why?**\n",
        "\n",
        "<!-- I couldn't find a way to implement the multiplication in $2nm(k-1)$ operations exactly. But I managed to do it in $2nmk$ operations. -->"
      ]
    },
    {
      "cell_type": "code",
      "execution_count": null,
      "metadata": {
        "colab": {
          "base_uri": "https://localhost:8080/"
        },
        "id": "GEbrQVpFuLUY",
        "outputId": "339de67c-56b1-4e7a-bb14-361eb57c6946"
      },
      "outputs": [
        {
          "name": "stdout",
          "output_type": "stream",
          "text": [
            "Lists took  16.76  milliseconds\n",
            "Numpy arrays took  1.78  milliseconds\n"
          ]
        }
      ],
      "source": [
        "import numpy as np\n",
        "from time import time_ns\n",
        "\n",
        "def multiply(a: list[list[int]], b: list[list[int]]) -> list[list[int]]:\n",
        "\n",
        "    n = len(a)\n",
        "    k = len(a[0])\n",
        "    m = len(b[0])\n",
        "\n",
        "    if len(b)!=k:\n",
        "        raise Exception(\"Dimensions don't match for matrices A and B.\")\n",
        "\n",
        "    c = [[0]*m for _ in range(n)]\n",
        "\n",
        "    for i in range(n):\n",
        "        for j in range(k):\n",
        "            for l in range(m):\n",
        "                c[i][l] += a[i][j]*b[j][l]\n",
        "\n",
        "    return c\n",
        "\n",
        "n = 53\n",
        "m = 37\n",
        "k = 29\n",
        "\n",
        "A = [[99]*k for _ in range(n)]\n",
        "B = [[99]*m for _ in range(k)]\n",
        "npA = np.array(A)\n",
        "npB = np.array(B)\n",
        "\n",
        "start = time_ns()\n",
        "C = multiply(A, B)\n",
        "end = time_ns()\n",
        "\n",
        "print(\"Lists took \", f\"{(end-start)/1e6:.2f}\", \" milliseconds\")\n",
        "\n",
        "start = time_ns()\n",
        "npC = np.dot(npA, npB)\n",
        "end = time_ns()\n",
        "\n",
        "print(\"Numpy arrays took \", f\"{(end-start)/1e6:.2f}\", \" milliseconds\")"
      ]
    },
    {
      "cell_type": "markdown",
      "metadata": {
        "id": "M2FAz1-M7bp0"
      },
      "source": [
        "Running the above code, shows that lists in python take 17.76 milliseconds. Whereas, numpy takes 1.3 milliseconds.\n",
        "\n",
        "Numpy is faster because:\n",
        "- Numpy functions are implemented in C.\n",
        "- Numpy arrays are a collection of similar data-types that are densely packed in memory. Python lists on the other hand can have different data types that puts constraints on the computation."
      ]
    },
    {
      "cell_type": "markdown",
      "metadata": {
        "id": "30jAOiW69LVM"
      },
      "source": [
        "**Q3. Finding the highest element in a list requires one pass of the array. Finding the second highest element requires 2 passes of the the array. Using this method, what is the time complexity of finding the median of the array? Can you suggest a better method? Can you implement both these methods in Python and compare against numpy.median routine in terms of time?**\n",
        "\n",
        "Let's consider an array A of n elements.\n",
        "\n",
        "The suggested method requires $\\frac{n}{2}$ linear passes over the array. Thus, the complextiy would be $O\\bigg(\\dfrac{n^2}{2}\\bigg)$.\n",
        "\n",
        "A better method will be to simply sort the array in $O\\big(n\\log n\\big)$, and return the element in the middle.\n",
        "\n",
        "An even better method will be to use the median of medians algorithm. Time complexity $O(n)$."
      ]
    },
    {
      "cell_type": "code",
      "execution_count": null,
      "metadata": {
        "colab": {
          "base_uri": "https://localhost:8080/"
        },
        "id": "NuyFCh8sJ9QB",
        "outputId": "b982c935-6fc3-4e95-a349-761fe66be1df"
      },
      "outputs": [
        {
          "name": "stdout",
          "output_type": "stream",
          "text": [
            "Time for Median Of Medians algorithm is  25943.89  milliseconds and answer is  499\n",
            "Time for numpy.median is  153.86  milliseconds and answer is  499.0\n",
            "Time by sorting is  2792.67  milliseconds and answer is  499\n"
          ]
        }
      ],
      "source": [
        "import numpy as np\n",
        "from time import time_ns\n",
        "from random import randint\n",
        "\n",
        "def popMax(arr: list[int]) -> int:\n",
        "    maxEl = max(arr)\n",
        "    arr.remove(maxEl)\n",
        "    return maxEl\n",
        "\n",
        "def nthLargest(arr: list[int]) -> int:\n",
        "    n = len(arr)\n",
        "    for _ in range(n//2):\n",
        "        popMax(arr)\n",
        "    return popMax(arr)\n",
        "\n",
        "def medianOfMedians(arr: list[int]) -> int:\n",
        "    # this provides a pivot for quickselect\n",
        "\n",
        "    n = len(arr)\n",
        "\n",
        "    if n<=5:\n",
        "        return sorted(arr)[n//2]\n",
        "\n",
        "    medians = []\n",
        "    subs = [arr[i:i+5] for i in range(0, n, 5)]\n",
        "    for group in subs:\n",
        "        medians.append(sorted(group)[len(group)//2])\n",
        "\n",
        "    return medianOfMedians(medians)\n",
        "\n",
        "def quick_select(arr: list[int], idx: int) -> int:\n",
        "    # idx is what the idx of element would be in a sorted array\n",
        "\n",
        "    n = len(arr)\n",
        "\n",
        "    if idx > n:\n",
        "        return -1\n",
        "\n",
        "    pivot = medianOfMedians(arr)\n",
        "    left = [x for x in arr if x<pivot]\n",
        "    mid = [x for x in arr if x==pivot]\n",
        "    right = [x for x in arr if x>pivot]\n",
        "    ans = pivot\n",
        "    l, m = len(left), len(mid)\n",
        "\n",
        "    if idx < l: ans = quick_select(left, idx)\n",
        "    elif idx >= l + m: ans = quick_select(right, idx - (l + m))\n",
        "\n",
        "    return ans\n",
        "\n",
        "\n",
        "n = 9999\n",
        "lis = [randint(0, 999) for _ in range(n)]\n",
        "narr = np.array(lis)\n",
        "\n",
        "start = time_ns()\n",
        "ans = quick_select(lis, n//2)\n",
        "end = time_ns()\n",
        "\n",
        "print(\"Time for QuickSelect algorithm is \", f\"{(end-start)/1e6:.2f}\", \" milliseconds and answer is \", ans)\n",
        "\n",
        "start = time_ns()\n",
        "ans = np.median(narr)\n",
        "end = time_ns()\n",
        "\n",
        "print(\"Time for numpy.median is \", f\"{(end-start)/1e6:.2f}\", \" milliseconds and answer is \", ans)\n",
        "\n",
        "start = time_ns()\n",
        "ans = sorted(lis)[n//2]\n",
        "end = time_ns()\n",
        "\n",
        "print(\"Time by sorting is \", f\"{(end-start)/1e6:.2f}\", \" milliseconds and answer is \", ans)\n",
        "\n",
        "\n",
        "start = time_ns()\n",
        "ans = nthLargest(lis)\n",
        "end = time_ns()\n",
        "\n",
        "print(\"Time for nth larget method  is \", f\"{(end-start)/1e6:.2f}\", \" milliseconds and answer is \", ans)"
      ]
    },
    {
      "cell_type": "markdown",
      "metadata": {
        "id": "DjrfT7RwJ8Mz"
      },
      "source": [
        "Running the above code multiple time with n=9999 gave me following results.\n",
        "\n",
        "| QuickSelect | numpy.median | sorting | nth largest |\n",
        "| ----------- | ------------ | ------- | ----------- |\n",
        "| 7.3         |   3.1        |  2.02   |  875        |\n",
        "| 6.48        | 1.30         | 1.91    | 878         |\n",
        "| 6.75        | 0.6          | 1.98    | 882.34      |\n",
        "| 6.93        | 1.68         | 1.92    | 899.42      |\n",
        "| 7.40        | 3.29         | 2.04    | 507         |\n",
        "PS: Time is in milliseconds.\n",
        "\n",
        "Observations:\n",
        "- Finding nth largest element by doing multiple passes to pop out the max took the most time as expected.\n",
        "- Quickselect was slower than numpy.median, which was also to be expected considering that numpy functions are implemented in C.\n",
        "- Time taken by sorting was comparable to that of numpy.median and much quicker than quickselect. This is despite the fact that numpy.median is a linear time algorith whereas sorted is $n\\log n$ time complexity.\n",
        "\n",
        "This prompted me to run my code with n=9999999 (1 less than 100 million).\n",
        "\n",
        "Here, numpy.median emerges as fastest, and the quickselect algorithm emerges as slowest.\n",
        "- numpy.median: 153.86 ms\n",
        "- sorted: 2792.67 ms\n",
        "- QuickSelect: 25943.89 ms\n",
        "\n",
        "Here, I think that sorted is faster than quickSelect because it's implementation is optimized in C. Quickselect would also develop a large call stack because of recursions during runtime."
      ]
    },
    {
      "cell_type": "markdown",
      "metadata": {
        "id": "y8VFDS_XVNOI"
      },
      "source": [
        "**Q4. What is the gradient of the following function with respect to x and y?**\n",
        "\\begin{align}\n",
        "f &= x^2y + y^3\\sin{x} \\\\\n",
        "\\nabla f &= \\frac {\\delta f}{\\delta x} \\hat{i} + \\frac {\\delta f}{\\delta y} \\hat{j} \\\\\n",
        "&= (2xy + y^3 \\cos{x}) \\hat{i} + (x^2 + 3y^2 \\sin{x}) \\hat{j}\n",
        "\\end{align}\n",
        "\n",
        "Thus, the gradient of f with respect to x and y is $2xy + y^3 \\cos{x}$ and $x^2 + 3y^2\\sin{x}$ respectively.\n",
        "\n"
      ]
    },
    {
      "cell_type": "markdown",
      "metadata": {
        "id": "DZzICMoQVSwB"
      },
      "source": [
        "**Q5. Use JAX to confirm the gradient evaluated by your method matches the analytical solution corresponding to a few random values of x and y**"
      ]
    },
    {
      "cell_type": "code",
      "execution_count": null,
      "metadata": {
        "colab": {
          "base_uri": "https://localhost:8080/"
        },
        "id": "kbKOwzsFxnYJ",
        "outputId": "c93dc0fc-24ee-44fc-f3f8-c31251beaf00"
      },
      "outputs": [
        {
          "name": "stdout",
          "output_type": "stream",
          "text": [
            "0.65314084 0.27080232 0.6531409 0.27080232\n",
            "0.6082217 0.5551516 0.6082217 0.5551515\n",
            "0.32860613 0.8535368 0.32860613 0.8535367\n",
            "0.032389443 0.008126501 0.032389443 0.008126501\n",
            "0.00910588 0.00842598 0.00910588 0.00842598\n",
            "1.0527102 1.2984521 1.0527102 1.2984521\n",
            "0.58830106 0.2091474 0.5883011 0.20914741\n",
            "0.045644797 0.057302363 0.0456448 0.057302367\n",
            "1.5327125 2.049271 1.5327123 2.0492709\n"
          ]
        }
      ],
      "source": [
        "from jax.numpy import sin, cos\n",
        "from jax import grad\n",
        "from random import random\n",
        "\n",
        "def f(x: float, y: float) -> float:\n",
        "    return (x ** 2) * y + (y ** 3) * sin(x)\n",
        "\n",
        "def gfx(x: float, y:float) -> float:\n",
        "    return 2 * x * y + (y ** 3) * cos(x)\n",
        "\n",
        "def gfy(x: float, y: float) -> float:\n",
        "    return (x ** 2) + 3 * (y ** 2) * sin(x)\n",
        "\n",
        "gradf = grad(f, argnums=(0, 1))\n",
        "\n",
        "for _ in range(9):\n",
        "    x = random()\n",
        "    y = random()\n",
        "    ans1 = gradf(x, y)\n",
        "    anx = gfx(x, y)\n",
        "    any = gfy(x, y)\n",
        "    print(ans1[0], ans1[1], anx, any)"
      ]
    },
    {
      "cell_type": "markdown",
      "metadata": {
        "id": "EcBv4fKuVXTw"
      },
      "source": [
        "**Q6. Use sympy to confirm that you obtain the same gradient analytically.**"
      ]
    },
    {
      "cell_type": "code",
      "execution_count": null,
      "metadata": {
        "colab": {
          "base_uri": "https://localhost:8080/"
        },
        "id": "3zu6LPmQ14xZ",
        "outputId": "f4eabc78-5508-4a99-8068-5da341cce64e"
      },
      "outputs": [
        {
          "name": "stdout",
          "output_type": "stream",
          "text": [
            "[2*x*y + y**3*cos(x), x**2 + 3*y**2*sin(x)]\n"
          ]
        }
      ],
      "source": [
        "from sympy import symbols, diff, sin, cos\n",
        "\n",
        "x, y = symbols('x y')\n",
        "f = x**2 * y + y**3 * sin(x)\n",
        "gradf = [diff(f, x), diff(f, y)]\n",
        "print(gradf)"
      ]
    },
    {
      "cell_type": "markdown",
      "metadata": {
        "id": "MQDmnvpNWFwA"
      },
      "source": [
        "**Q7. Create a Python nested dictionary to represent hierarchical information. We want to store record of students and their marks.**"
      ]
    },
    {
      "cell_type": "code",
      "execution_count": null,
      "metadata": {
        "id": "KNno0Q-32On_"
      },
      "outputs": [],
      "source": [
        "dict = {\n",
        "    2022:\n",
        "      {\n",
        "          \"Branch 1\":\n",
        "          [\n",
        "              {\n",
        "                  \"Roll Number\": 1,\n",
        "                  \"Name\": \"N\",\n",
        "                  \"Marks\": {\n",
        "                      \"Maths\": 100,\n",
        "                      \"English\": 70,\n",
        "                  }\n",
        "              }\n",
        "          ],\n",
        "          \"Branch 2\": []\n",
        "      },\n",
        "    2023:\n",
        "      {\n",
        "          \"Branch 1\": [],\n",
        "          \"Branch 2\": []\n",
        "      },\n",
        "    2024:\n",
        "      {\n",
        "          \"Branch 1\": [],\n",
        "          \"Branch 2\": []\n",
        "      },\n",
        "    2025:\n",
        "      {\n",
        "          \"Branch 1\": [],\n",
        "          \"Branch 2\": []\n",
        "      }\n",
        "}\n",
        "\n",
        "# To add records to the above dictionary, we will need to append a\n",
        "# dict record to the list that the student's branch points to"
      ]
    },
    {
      "cell_type": "markdown",
      "metadata": {
        "id": "x8JZeEYIWKrA"
      },
      "source": [
        "**Q8. Store the same information using Python classes. We have an overall database which is a list of year objects. Each year contains a list of branches. Each branch contains a list of students. Each student has some properties like name, roll number and has marks in some subjects.**"
      ]
    },
    {
      "cell_type": "code",
      "execution_count": null,
      "metadata": {
        "id": "fOxG3ORW2Hte"
      },
      "outputs": [],
      "source": [
        "class Student:\n",
        "    def __init__(self, name, roll_number, marks):\n",
        "        self.name = name\n",
        "        self.roll_number = roll_number\n",
        "        self.marks = marks\n",
        "    def addMarks(self, subject, marks):\n",
        "        self.marks[subject] = marks\n",
        "\n",
        "class Branch:\n",
        "    def __init__(self, name):\n",
        "        self.name = name\n",
        "        self.students = []\n",
        "    def addStudent(self, student):\n",
        "        self.students.append(student)\n",
        "\n",
        "class Year:\n",
        "    def __init__(self, year):\n",
        "        self.year = year\n",
        "        self.branches = []\n",
        "    def addBranch(self, branch):\n",
        "        self.branches.append(branch)"
      ]
    },
    {
      "cell_type": "markdown",
      "metadata": {
        "id": "L32WpY6zWRm5"
      },
      "source": [
        "**Q9. Using matplotlib plot the following functions on the domain: x = 0.5 to 100.0 in steps of 0.5.**"
      ]
    },
    {
      "cell_type": "code",
      "execution_count": null,
      "metadata": {
        "colab": {
          "base_uri": "https://localhost:8080/",
          "height": 1000
        },
        "id": "IcC7bzrh4W3_",
        "outputId": "36997ef4-61cd-4635-c84a-db73470f8842"
      },
      "outputs": [
        {
          "data": {
            "text/plain": [
              "Text(0.5, 1.0, '$y = e^x$')"
            ]
          },
          "execution_count": 18,
          "metadata": {},
          "output_type": "execute_result"
        },
        {
          "data": {
            "image/png": "[encoded data removed]",
            "text/plain": [
              "<Figure size 640x480 with 1 Axes>"
            ]
          },
          "metadata": {},
          "output_type": "display_data"
        },
        {
          "data": {
            "image/png": "[encoded data removed]",
            "text/plain": [
              "<Figure size 640x480 with 1 Axes>"
            ]
          },
          "metadata": {},
          "output_type": "display_data"
        },
        {
          "data": {
            "image/png": "[encoded data removed]",
            "text/plain": [
              "<Figure size 640x480 with 1 Axes>"
            ]
          },
          "metadata": {},
          "output_type": "display_data"
        },
        {
          "data": {
            "image/png": "[encoded data removed]",
            "text/plain": [
              "<Figure size 640x480 with 1 Axes>"
            ]
          },
          "metadata": {},
          "output_type": "display_data"
        },
        {
          "data": {
            "image/png": "[encoded data removed]",
            "text/plain": [
              "<Figure size 640x480 with 1 Axes>"
            ]
          },
          "metadata": {},
          "output_type": "display_data"
        },
        {
          "data": {
            "image/png": "[encoded data removed]",
            "text/plain": [
              "<Figure size 640x480 with 1 Axes>"
            ]
          },
          "metadata": {},
          "output_type": "display_data"
        },
        {
          "data": {
            "image/png": "[encoded data removed]",
            "text/plain": [
              "<Figure size 640x480 with 1 Axes>"
            ]
          },
          "metadata": {},
          "output_type": "display_data"
        },
        {
          "data": {
            "image/png": "[encoded data removed]",
            "text/plain": [
              "<Figure size 640x480 with 1 Axes>"
            ]
          },
          "metadata": {},
          "output_type": "display_data"
        }
      ],
      "source": [
        "from numpy import linspace, sin, log, exp\n",
        "from matplotlib.pyplot import subplots\n",
        "\n",
        "X = linspace(0.5, 100, 200)\n",
        "\n",
        "# 1. y = x\n",
        "\n",
        "fig, ax = subplots()\n",
        "ax.plot(X, X)\n",
        "ax.set_title(\"$y = x$\")\n",
        "\n",
        "# 2. y = x^2\n",
        "\n",
        "fig, ax = subplots()\n",
        "ax.plot(X, X**2)\n",
        "ax.set_title(\"$y = x^2$\")\n",
        "\n",
        "# 3. y = x^3/100\n",
        "\n",
        "fig, ax = subplots()\n",
        "ax.plot(X, X**3/100)\n",
        "ax.set_title(\"$y = x^3/100$\")\n",
        "\n",
        "# 4. y = sin(x)\n",
        "\n",
        "fig, ax = subplots()\n",
        "ax.plot(X, sin(X))\n",
        "ax.set_title(\"$y = \\sin{x}$\")\n",
        "\n",
        "# 5. y = sin(x)/x\n",
        "\n",
        "fig, ax = subplots()\n",
        "ax.plot(X, sin(X)/X)\n",
        "ax.set_title(\"$y = \\sin {x}/x$\")\n",
        "\n",
        "# 6. y = log(x)\n",
        "\n",
        "fig, ax = subplots()\n",
        "ax.plot(X, log(X))\n",
        "ax.set_title(\"$y = \\log{x}$\")\n",
        "\n",
        "# 7. y = log(x)/x\n",
        "\n",
        "fig, ax = subplots()\n",
        "ax.plot(X, log(X)/X)\n",
        "ax.set_title(\"$y = \\log{x}/x$\")\n",
        "\n",
        "# 8. y = e^x\n",
        "\n",
        "fig, ax = subplots()\n",
        "ax.plot(X, exp(X))\n",
        "ax.set_title(\"$y = e^x$\")"
      ]
    },
    {
      "cell_type": "markdown",
      "metadata": {
        "id": "lnvRMsgJJkCN"
      },
      "source": [
        "**Q10. Using numpy generate a matrix of size 20X5 containing random numbers drawn uniformly from the range of 1 to 2. Using Pandas create a dataframe out of this matrix. Name the columns of the dataframe as “a”, “b”, “c”, “d”, “e”. Find the column with the highest standard deviation. Find the row with the lowest mean.**"
      ]
    },
    {
      "cell_type": "code",
      "execution_count": null,
      "metadata": {
        "colab": {
          "base_uri": "https://localhost:8080/",
          "height": 241
        },
        "id": "9_fWDu_sJfGk",
        "outputId": "9ff23612-278f-471b-94aa-ceb922c83db6"
      },
      "outputs": [
        {
          "name": "stdout",
          "output_type": "stream",
          "text": [
            "Column with highest standard deviation is:  a\n",
            "Row with the lowest mean is:  5\n"
          ]
        },
        {
          "data": {
            "application/vnd.google.colaboratory.intrinsic+json": {
              "summary": "{\n  \"name\": \"df\",\n  \"rows\": 20,\n  \"fields\": [\n    {\n      \"column\": \"a\",\n      \"properties\": {\n        \"dtype\": \"number\",\n        \"std\": 0.31955773608365534,\n        \"min\": 1.0523104514860464,\n        \"max\": 1.980689924890887,\n        \"num_unique_values\": 20,\n        \"samples\": [\n          1.8905902519132443,\n          1.3002374794131715,\n          1.1796727013868455\n        ],\n        \"semantic_type\": \"\",\n        \"description\": \"\"\n      }\n    },\n    {\n      \"column\": \"b\",\n      \"properties\": {\n        \"dtype\": \"number\",\n        \"std\": 0.24696163825363573,\n        \"min\": 1.0784022406229727,\n        \"max\": 1.9998385669217011,\n        \"num_unique_values\": 20,\n        \"samples\": [\n          1.8637503755333102,\n          1.4055802974361087,\n          1.6300463496624487\n        ],\n        \"semantic_type\": \"\",\n        \"description\": \"\"\n      }\n    },\n    {\n      \"column\": \"c\",\n      \"properties\": {\n        \"dtype\": \"number\",\n        \"std\": 0.2606469141219729,\n        \"min\": 1.1030289715083739,\n        \"max\": 1.9871487111415034,\n        \"num_unique_values\": 20,\n        \"samples\": [\n          1.4842081776873337,\n          1.6675548957978314,\n          1.2789143881512728\n        ],\n        \"semantic_type\": \"\",\n        \"description\": \"\"\n      }\n    },\n    {\n      \"column\": \"d\",\n      \"properties\": {\n        \"dtype\": \"number\",\n        \"std\": 0.29370678349482393,\n        \"min\": 1.0769409606876956,\n        \"max\": 1.9913028045138632,\n        \"num_unique_values\": 20,\n        \"samples\": [\n          1.1353774341031362,\n          1.697352373526833,\n          1.3921153863195654\n        ],\n        \"semantic_type\": \"\",\n        \"description\": \"\"\n      }\n    },\n    {\n      \"column\": \"e\",\n      \"properties\": {\n        \"dtype\": \"number\",\n        \"std\": 0.24728093564441916,\n        \"min\": 1.102160403005557,\n        \"max\": 1.9807906014368002,\n        \"num_unique_values\": 20,\n        \"samples\": [\n          1.2153883841894757,\n          1.537992651892515,\n          1.102160403005557\n        ],\n        \"semantic_type\": \"\",\n        \"description\": \"\"\n      }\n    }\n  ]\n}",
              "type": "dataframe",
              "variable_name": "df"
            },
            "text/html": [
              "\n",
              "  <div id=\"df-6f1ce3dd-54da-4ef8-955c-6eef96373396\" class=\"colab-df-container\">\n",
              "    <div>\n",
              "<style scoped>\n",
              "    .dataframe tbody tr th:only-of-type {\n",
              "        vertical-align: middle;\n",
              "    }\n",
              "\n",
              "    .dataframe tbody tr th {\n",
              "        vertical-align: top;\n",
              "    }\n",
              "\n",
              "    .dataframe thead th {\n",
              "        text-align: right;\n",
              "    }\n",
              "</style>\n",
              "<table border=\"1\" class=\"dataframe\">\n",
              "  <thead>\n",
              "    <tr style=\"text-align: right;\">\n",
              "      <th></th>\n",
              "      <th>a</th>\n",
              "      <th>b</th>\n",
              "      <th>c</th>\n",
              "      <th>d</th>\n",
              "      <th>e</th>\n",
              "    </tr>\n",
              "  </thead>\n",
              "  <tbody>\n",
              "    <tr>\n",
              "      <th>0</th>\n",
              "      <td>1.890590</td>\n",
              "      <td>1.863750</td>\n",
              "      <td>1.484208</td>\n",
              "      <td>1.135377</td>\n",
              "      <td>1.215388</td>\n",
              "    </tr>\n",
              "    <tr>\n",
              "      <th>1</th>\n",
              "      <td>1.607869</td>\n",
              "      <td>1.266549</td>\n",
              "      <td>1.385781</td>\n",
              "      <td>1.575057</td>\n",
              "      <td>1.273743</td>\n",
              "    </tr>\n",
              "    <tr>\n",
              "      <th>2</th>\n",
              "      <td>1.059931</td>\n",
              "      <td>1.078402</td>\n",
              "      <td>1.842477</td>\n",
              "      <td>1.581445</td>\n",
              "      <td>1.566748</td>\n",
              "    </tr>\n",
              "    <tr>\n",
              "      <th>3</th>\n",
              "      <td>1.794032</td>\n",
              "      <td>1.533014</td>\n",
              "      <td>1.987149</td>\n",
              "      <td>1.805952</td>\n",
              "      <td>1.782036</td>\n",
              "    </tr>\n",
              "    <tr>\n",
              "      <th>4</th>\n",
              "      <td>1.099954</td>\n",
              "      <td>1.897730</td>\n",
              "      <td>1.320124</td>\n",
              "      <td>1.500220</td>\n",
              "      <td>1.440560</td>\n",
              "    </tr>\n",
              "  </tbody>\n",
              "</table>\n",
              "</div>\n",
              "    <div class=\"colab-df-buttons\">\n",
              "\n",
              "  <div class=\"colab-df-container\">\n",
              "    <button class=\"colab-df-convert\" onclick=\"convertToInteractive('df-6f1ce3dd-54da-4ef8-955c-6eef96373396')\"\n",
              "            title=\"Convert this dataframe to an interactive table.\"\n",
              "            style=\"display:none;\">\n",
              "\n",
              "  <svg xmlns=\"http://www.w3.org/2000/svg\" height=\"24px\" viewBox=\"0 -960 960 960\">\n",
              "    <path d=\"M120-120v-720h720v720H120Zm60-500h600v-160H180v160Zm220 220h160v-160H400v160Zm0 220h160v-160H400v160ZM180-400h160v-160H180v160Zm440 0h160v-160H620v160ZM180-180h160v-160H180v160Zm440 0h160v-160H620v160Z\"/>\n",
              "  </svg>\n",
              "    </button>\n",
              "\n",
              "  <style>\n",
              "    .colab-df-container {\n",
              "      display:flex;\n",
              "      gap: 12px;\n",
              "    }\n",
              "\n",
              "    .colab-df-convert {\n",
              "      background-color: #E8F0FE;\n",
              "      border: none;\n",
              "      border-radius: 50%;\n",
              "      cursor: pointer;\n",
              "      display: none;\n",
              "      fill: #1967D2;\n",
              "      height: 32px;\n",
              "      padding: 0 0 0 0;\n",
              "      width: 32px;\n",
              "    }\n",
              "\n",
              "    .colab-df-convert:hover {\n",
              "      background-color: #E2EBFA;\n",
              "      box-shadow: 0px 1px 2px rgba(60, 64, 67, 0.3), 0px 1px 3px 1px rgba(60, 64, 67, 0.15);\n",
              "      fill: #174EA6;\n",
              "    }\n",
              "\n",
              "    .colab-df-buttons div {\n",
              "      margin-bottom: 4px;\n",
              "    }\n",
              "\n",
              "    [theme=dark] .colab-df-convert {\n",
              "      background-color: #3B4455;\n",
              "      fill: #D2E3FC;\n",
              "    }\n",
              "\n",
              "    [theme=dark] .colab-df-convert:hover {\n",
              "      background-color: #434B5C;\n",
              "      box-shadow: 0px 1px 3px 1px rgba(0, 0, 0, 0.15);\n",
              "      filter: drop-shadow(0px 1px 2px rgba(0, 0, 0, 0.3));\n",
              "      fill: #FFFFFF;\n",
              "    }\n",
              "  </style>\n",
              "\n",
              "    <script>\n",
              "      const buttonEl =\n",
              "        document.querySelector('#df-6f1ce3dd-54da-4ef8-955c-6eef96373396 button.colab-df-convert');\n",
              "      buttonEl.style.display =\n",
              "        google.colab.kernel.accessAllowed ? 'block' : 'none';\n",
              "\n",
              "      async function convertToInteractive(key) {\n",
              "        const element = document.querySelector('#df-6f1ce3dd-54da-4ef8-955c-6eef96373396');\n",
              "        const dataTable =\n",
              "          await google.colab.kernel.invokeFunction('convertToInteractive',\n",
              "                                                    [key], {});\n",
              "        if (!dataTable) return;\n",
              "\n",
              "        const docLinkHtml = 'Like what you see? Visit the ' +\n",
              "          '<a target=\"_blank\" href=https://colab.research.google.com/notebooks/data_table.ipynb>data table notebook</a>'\n",
              "          + ' to learn more about interactive tables.';\n",
              "        element.innerHTML = '';\n",
              "        dataTable['output_type'] = 'display_data';\n",
              "        await google.colab.output.renderOutput(dataTable, element);\n",
              "        const docLink = document.createElement('div');\n",
              "        docLink.innerHTML = docLinkHtml;\n",
              "        element.appendChild(docLink);\n",
              "      }\n",
              "    </script>\n",
              "  </div>\n",
              "\n",
              "\n",
              "<div id=\"df-cc0da281-a367-4503-82b9-f72869cd71ef\">\n",
              "  <button class=\"colab-df-quickchart\" onclick=\"quickchart('df-cc0da281-a367-4503-82b9-f72869cd71ef')\"\n",
              "            title=\"Suggest charts\"\n",
              "            style=\"display:none;\">\n",
              "\n",
              "<svg xmlns=\"http://www.w3.org/2000/svg\" height=\"24px\"viewBox=\"0 0 24 24\"\n",
              "     width=\"24px\">\n",
              "    <g>\n",
              "        <path d=\"M19 3H5c-1.1 0-2 .9-2 2v14c0 1.1.9 2 2 2h14c1.1 0 2-.9 2-2V5c0-1.1-.9-2-2-2zM9 17H7v-7h2v7zm4 0h-2V7h2v10zm4 0h-2v-4h2v4z\"/>\n",
              "    </g>\n",
              "</svg>\n",
              "  </button>\n",
              "\n",
              "<style>\n",
              "  .colab-df-quickchart {\n",
              "      --bg-color: #E8F0FE;\n",
              "      --fill-color: #1967D2;\n",
              "      --hover-bg-color: #E2EBFA;\n",
              "      --hover-fill-color: #174EA6;\n",
              "      --disabled-fill-color: #AAA;\n",
              "      --disabled-bg-color: #DDD;\n",
              "  }\n",
              "\n",
              "  [theme=dark] .colab-df-quickchart {\n",
              "      --bg-color: #3B4455;\n",
              "      --fill-color: #D2E3FC;\n",
              "      --hover-bg-color: #434B5C;\n",
              "      --hover-fill-color: #FFFFFF;\n",
              "      --disabled-bg-color: #3B4455;\n",
              "      --disabled-fill-color: #666;\n",
              "  }\n",
              "\n",
              "  .colab-df-quickchart {\n",
              "    background-color: var(--bg-color);\n",
              "    border: none;\n",
              "    border-radius: 50%;\n",
              "    cursor: pointer;\n",
              "    display: none;\n",
              "    fill: var(--fill-color);\n",
              "    height: 32px;\n",
              "    padding: 0;\n",
              "    width: 32px;\n",
              "  }\n",
              "\n",
              "  .colab-df-quickchart:hover {\n",
              "    background-color: var(--hover-bg-color);\n",
              "    box-shadow: 0 1px 2px rgba(60, 64, 67, 0.3), 0 1px 3px 1px rgba(60, 64, 67, 0.15);\n",
              "    fill: var(--button-hover-fill-color);\n",
              "  }\n",
              "\n",
              "  .colab-df-quickchart-complete:disabled,\n",
              "  .colab-df-quickchart-complete:disabled:hover {\n",
              "    background-color: var(--disabled-bg-color);\n",
              "    fill: var(--disabled-fill-color);\n",
              "    box-shadow: none;\n",
              "  }\n",
              "\n",
              "  .colab-df-spinner {\n",
              "    border: 2px solid var(--fill-color);\n",
              "    border-color: transparent;\n",
              "    border-bottom-color: var(--fill-color);\n",
              "    animation:\n",
              "      spin 1s steps(1) infinite;\n",
              "  }\n",
              "\n",
              "  @keyframes spin {\n",
              "    0% {\n",
              "      border-color: transparent;\n",
              "      border-bottom-color: var(--fill-color);\n",
              "      border-left-color: var(--fill-color);\n",
              "    }\n",
              "    20% {\n",
              "      border-color: transparent;\n",
              "      border-left-color: var(--fill-color);\n",
              "      border-top-color: var(--fill-color);\n",
              "    }\n",
              "    30% {\n",
              "      border-color: transparent;\n",
              "      border-left-color: var(--fill-color);\n",
              "      border-top-color: var(--fill-color);\n",
              "      border-right-color: var(--fill-color);\n",
              "    }\n",
              "    40% {\n",
              "      border-color: transparent;\n",
              "      border-right-color: var(--fill-color);\n",
              "      border-top-color: var(--fill-color);\n",
              "    }\n",
              "    60% {\n",
              "      border-color: transparent;\n",
              "      border-right-color: var(--fill-color);\n",
              "    }\n",
              "    80% {\n",
              "      border-color: transparent;\n",
              "      border-right-color: var(--fill-color);\n",
              "      border-bottom-color: var(--fill-color);\n",
              "    }\n",
              "    90% {\n",
              "      border-color: transparent;\n",
              "      border-bottom-color: var(--fill-color);\n",
              "    }\n",
              "  }\n",
              "</style>\n",
              "\n",
              "  <script>\n",
              "    async function quickchart(key) {\n",
              "      const quickchartButtonEl =\n",
              "        document.querySelector('#' + key + ' button');\n",
              "      quickchartButtonEl.disabled = true;  // To prevent multiple clicks.\n",
              "      quickchartButtonEl.classList.add('colab-df-spinner');\n",
              "      try {\n",
              "        const charts = await google.colab.kernel.invokeFunction(\n",
              "            'suggestCharts', [key], {});\n",
              "      } catch (error) {\n",
              "        console.error('Error during call to suggestCharts:', error);\n",
              "      }\n",
              "      quickchartButtonEl.classList.remove('colab-df-spinner');\n",
              "      quickchartButtonEl.classList.add('colab-df-quickchart-complete');\n",
              "    }\n",
              "    (() => {\n",
              "      let quickchartButtonEl =\n",
              "        document.querySelector('#df-cc0da281-a367-4503-82b9-f72869cd71ef button');\n",
              "      quickchartButtonEl.style.display =\n",
              "        google.colab.kernel.accessAllowed ? 'block' : 'none';\n",
              "    })();\n",
              "  </script>\n",
              "</div>\n",
              "\n",
              "    </div>\n",
              "  </div>\n"
            ],
            "text/plain": [
              "          a         b         c         d         e\n",
              "0  1.890590  1.863750  1.484208  1.135377  1.215388\n",
              "1  1.607869  1.266549  1.385781  1.575057  1.273743\n",
              "2  1.059931  1.078402  1.842477  1.581445  1.566748\n",
              "3  1.794032  1.533014  1.987149  1.805952  1.782036\n",
              "4  1.099954  1.897730  1.320124  1.500220  1.440560"
            ]
          },
          "execution_count": 10,
          "metadata": {},
          "output_type": "execute_result"
        }
      ],
      "source": [
        "import numpy as np\n",
        "import pandas as pd\n",
        "\n",
        "matrix = np.empty((20, 5))\n",
        "for i in range(20):\n",
        "    for j in range(5):\n",
        "        matrix[i][j] = np.random.uniform(1, 2)\n",
        "\n",
        "df = pd.DataFrame(matrix)\n",
        "df.columns = ['a', 'b', 'c', 'd', 'e']\n",
        "\n",
        "print(\"Column with highest standard deviation is: \" ,df.std().idxmax())\n",
        "\n",
        "print(\"Row with the lowest mean is: \", df.mean(axis=1).idxmin())\n",
        "\n",
        "df.head()"
      ]
    },
    {
      "cell_type": "markdown",
      "metadata": {
        "id": "Rhit76D8OFZv"
      },
      "source": [
        "**Q11. Add a new column to the dataframe called “f” which is the sum of the columns “a”, “b”, “c”, “d”, “e”. Create another column called “g”. The value in the column “g” should be “LT8” if the value in the column “f” is less than 8 and “GT8” otherwise. Find the number of rows in the dataframe where the value in the column “g” is “LT8”. Find the standard deviation of the column “f” for the rows where the value in the column “g” is “LT8” and “GT8” respectively.**"
      ]
    },
    {
      "cell_type": "code",
      "execution_count": null,
      "metadata": {
        "colab": {
          "base_uri": "https://localhost:8080/",
          "height": 206
        },
        "id": "HKmq8N-NOi1U",
        "outputId": "8e0b9e89-fcc9-4249-ab87-62228836542a"
      },
      "outputs": [
        {
          "data": {
            "application/vnd.google.colaboratory.intrinsic+json": {
              "summary": "{\n  \"name\": \"df\",\n  \"rows\": 20,\n  \"fields\": [\n    {\n      \"column\": \"a\",\n      \"properties\": {\n        \"dtype\": \"number\",\n        \"std\": 0.31955773608365534,\n        \"min\": 1.0523104514860464,\n        \"max\": 1.980689924890887,\n        \"num_unique_values\": 20,\n        \"samples\": [\n          1.8905902519132443,\n          1.3002374794131715,\n          1.1796727013868455\n        ],\n        \"semantic_type\": \"\",\n        \"description\": \"\"\n      }\n    },\n    {\n      \"column\": \"b\",\n      \"properties\": {\n        \"dtype\": \"number\",\n        \"std\": 0.24696163825363573,\n        \"min\": 1.0784022406229727,\n        \"max\": 1.9998385669217011,\n        \"num_unique_values\": 20,\n        \"samples\": [\n          1.8637503755333102,\n          1.4055802974361087,\n          1.6300463496624487\n        ],\n        \"semantic_type\": \"\",\n        \"description\": \"\"\n      }\n    },\n    {\n      \"column\": \"c\",\n      \"properties\": {\n        \"dtype\": \"number\",\n        \"std\": 0.2606469141219729,\n        \"min\": 1.1030289715083739,\n        \"max\": 1.9871487111415034,\n        \"num_unique_values\": 20,\n        \"samples\": [\n          1.4842081776873337,\n          1.6675548957978314,\n          1.2789143881512728\n        ],\n        \"semantic_type\": \"\",\n        \"description\": \"\"\n      }\n    },\n    {\n      \"column\": \"d\",\n      \"properties\": {\n        \"dtype\": \"number\",\n        \"std\": 0.29370678349482393,\n        \"min\": 1.0769409606876956,\n        \"max\": 1.9913028045138632,\n        \"num_unique_values\": 20,\n        \"samples\": [\n          1.1353774341031362,\n          1.697352373526833,\n          1.3921153863195654\n        ],\n        \"semantic_type\": \"\",\n        \"description\": \"\"\n      }\n    },\n    {\n      \"column\": \"e\",\n      \"properties\": {\n        \"dtype\": \"number\",\n        \"std\": 0.24728093564441916,\n        \"min\": 1.102160403005557,\n        \"max\": 1.9807906014368002,\n        \"num_unique_values\": 20,\n        \"samples\": [\n          1.2153883841894757,\n          1.537992651892515,\n          1.102160403005557\n        ],\n        \"semantic_type\": \"\",\n        \"description\": \"\"\n      }\n    },\n    {\n      \"column\": \"f\",\n      \"properties\": {\n        \"dtype\": \"number\",\n        \"std\": 0.6691186611738176,\n        \"min\": 6.532511958982096,\n        \"max\": 8.902182651350705,\n        \"num_unique_values\": 20,\n        \"samples\": [\n          7.5893146234265,\n          7.608717698066459,\n          6.58290922852569\n        ],\n        \"semantic_type\": \"\",\n        \"description\": \"\"\n      }\n    },\n    {\n      \"column\": \"g\",\n      \"properties\": {\n        \"dtype\": \"category\",\n        \"num_unique_values\": 2,\n        \"samples\": [\n          \"GT8\",\n          \"LT8\"\n        ],\n        \"semantic_type\": \"\",\n        \"description\": \"\"\n      }\n    }\n  ]\n}",
              "type": "dataframe",
              "variable_name": "df"
            },
            "text/html": [
              "\n",
              "  <div id=\"df-3c0c1290-d965-47e4-bcf5-25ea6e6e1e34\" class=\"colab-df-container\">\n",
              "    <div>\n",
              "<style scoped>\n",
              "    .dataframe tbody tr th:only-of-type {\n",
              "        vertical-align: middle;\n",
              "    }\n",
              "\n",
              "    .dataframe tbody tr th {\n",
              "        vertical-align: top;\n",
              "    }\n",
              "\n",
              "    .dataframe thead th {\n",
              "        text-align: right;\n",
              "    }\n",
              "</style>\n",
              "<table border=\"1\" class=\"dataframe\">\n",
              "  <thead>\n",
              "    <tr style=\"text-align: right;\">\n",
              "      <th></th>\n",
              "      <th>a</th>\n",
              "      <th>b</th>\n",
              "      <th>c</th>\n",
              "      <th>d</th>\n",
              "      <th>e</th>\n",
              "      <th>f</th>\n",
              "      <th>g</th>\n",
              "    </tr>\n",
              "  </thead>\n",
              "  <tbody>\n",
              "    <tr>\n",
              "      <th>0</th>\n",
              "      <td>1.890590</td>\n",
              "      <td>1.863750</td>\n",
              "      <td>1.484208</td>\n",
              "      <td>1.135377</td>\n",
              "      <td>1.215388</td>\n",
              "      <td>7.589315</td>\n",
              "      <td>LT8</td>\n",
              "    </tr>\n",
              "    <tr>\n",
              "      <th>1</th>\n",
              "      <td>1.607869</td>\n",
              "      <td>1.266549</td>\n",
              "      <td>1.385781</td>\n",
              "      <td>1.575057</td>\n",
              "      <td>1.273743</td>\n",
              "      <td>7.108998</td>\n",
              "      <td>LT8</td>\n",
              "    </tr>\n",
              "    <tr>\n",
              "      <th>2</th>\n",
              "      <td>1.059931</td>\n",
              "      <td>1.078402</td>\n",
              "      <td>1.842477</td>\n",
              "      <td>1.581445</td>\n",
              "      <td>1.566748</td>\n",
              "      <td>7.129003</td>\n",
              "      <td>LT8</td>\n",
              "    </tr>\n",
              "    <tr>\n",
              "      <th>3</th>\n",
              "      <td>1.794032</td>\n",
              "      <td>1.533014</td>\n",
              "      <td>1.987149</td>\n",
              "      <td>1.805952</td>\n",
              "      <td>1.782036</td>\n",
              "      <td>8.902183</td>\n",
              "      <td>GT8</td>\n",
              "    </tr>\n",
              "    <tr>\n",
              "      <th>4</th>\n",
              "      <td>1.099954</td>\n",
              "      <td>1.897730</td>\n",
              "      <td>1.320124</td>\n",
              "      <td>1.500220</td>\n",
              "      <td>1.440560</td>\n",
              "      <td>7.258589</td>\n",
              "      <td>LT8</td>\n",
              "    </tr>\n",
              "  </tbody>\n",
              "</table>\n",
              "</div>\n",
              "    <div class=\"colab-df-buttons\">\n",
              "\n",
              "  <div class=\"colab-df-container\">\n",
              "    <button class=\"colab-df-convert\" onclick=\"convertToInteractive('df-3c0c1290-d965-47e4-bcf5-25ea6e6e1e34')\"\n",
              "            title=\"Convert this dataframe to an interactive table.\"\n",
              "            style=\"display:none;\">\n",
              "\n",
              "  <svg xmlns=\"http://www.w3.org/2000/svg\" height=\"24px\" viewBox=\"0 -960 960 960\">\n",
              "    <path d=\"M120-120v-720h720v720H120Zm60-500h600v-160H180v160Zm220 220h160v-160H400v160Zm0 220h160v-160H400v160ZM180-400h160v-160H180v160Zm440 0h160v-160H620v160ZM180-180h160v-160H180v160Zm440 0h160v-160H620v160Z\"/>\n",
              "  </svg>\n",
              "    </button>\n",
              "\n",
              "  <style>\n",
              "    .colab-df-container {\n",
              "      display:flex;\n",
              "      gap: 12px;\n",
              "    }\n",
              "\n",
              "    .colab-df-convert {\n",
              "      background-color: #E8F0FE;\n",
              "      border: none;\n",
              "      border-radius: 50%;\n",
              "      cursor: pointer;\n",
              "      display: none;\n",
              "      fill: #1967D2;\n",
              "      height: 32px;\n",
              "      padding: 0 0 0 0;\n",
              "      width: 32px;\n",
              "    }\n",
              "\n",
              "    .colab-df-convert:hover {\n",
              "      background-color: #E2EBFA;\n",
              "      box-shadow: 0px 1px 2px rgba(60, 64, 67, 0.3), 0px 1px 3px 1px rgba(60, 64, 67, 0.15);\n",
              "      fill: #174EA6;\n",
              "    }\n",
              "\n",
              "    .colab-df-buttons div {\n",
              "      margin-bottom: 4px;\n",
              "    }\n",
              "\n",
              "    [theme=dark] .colab-df-convert {\n",
              "      background-color: #3B4455;\n",
              "      fill: #D2E3FC;\n",
              "    }\n",
              "\n",
              "    [theme=dark] .colab-df-convert:hover {\n",
              "      background-color: #434B5C;\n",
              "      box-shadow: 0px 1px 3px 1px rgba(0, 0, 0, 0.15);\n",
              "      filter: drop-shadow(0px 1px 2px rgba(0, 0, 0, 0.3));\n",
              "      fill: #FFFFFF;\n",
              "    }\n",
              "  </style>\n",
              "\n",
              "    <script>\n",
              "      const buttonEl =\n",
              "        document.querySelector('#df-3c0c1290-d965-47e4-bcf5-25ea6e6e1e34 button.colab-df-convert');\n",
              "      buttonEl.style.display =\n",
              "        google.colab.kernel.accessAllowed ? 'block' : 'none';\n",
              "\n",
              "      async function convertToInteractive(key) {\n",
              "        const element = document.querySelector('#df-3c0c1290-d965-47e4-bcf5-25ea6e6e1e34');\n",
              "        const dataTable =\n",
              "          await google.colab.kernel.invokeFunction('convertToInteractive',\n",
              "                                                    [key], {});\n",
              "        if (!dataTable) return;\n",
              "\n",
              "        const docLinkHtml = 'Like what you see? Visit the ' +\n",
              "          '<a target=\"_blank\" href=https://colab.research.google.com/notebooks/data_table.ipynb>data table notebook</a>'\n",
              "          + ' to learn more about interactive tables.';\n",
              "        element.innerHTML = '';\n",
              "        dataTable['output_type'] = 'display_data';\n",
              "        await google.colab.output.renderOutput(dataTable, element);\n",
              "        const docLink = document.createElement('div');\n",
              "        docLink.innerHTML = docLinkHtml;\n",
              "        element.appendChild(docLink);\n",
              "      }\n",
              "    </script>\n",
              "  </div>\n",
              "\n",
              "\n",
              "<div id=\"df-53a990b1-d472-4031-a586-043031841615\">\n",
              "  <button class=\"colab-df-quickchart\" onclick=\"quickchart('df-53a990b1-d472-4031-a586-043031841615')\"\n",
              "            title=\"Suggest charts\"\n",
              "            style=\"display:none;\">\n",
              "\n",
              "<svg xmlns=\"http://www.w3.org/2000/svg\" height=\"24px\"viewBox=\"0 0 24 24\"\n",
              "     width=\"24px\">\n",
              "    <g>\n",
              "        <path d=\"M19 3H5c-1.1 0-2 .9-2 2v14c0 1.1.9 2 2 2h14c1.1 0 2-.9 2-2V5c0-1.1-.9-2-2-2zM9 17H7v-7h2v7zm4 0h-2V7h2v10zm4 0h-2v-4h2v4z\"/>\n",
              "    </g>\n",
              "</svg>\n",
              "  </button>\n",
              "\n",
              "<style>\n",
              "  .colab-df-quickchart {\n",
              "      --bg-color: #E8F0FE;\n",
              "      --fill-color: #1967D2;\n",
              "      --hover-bg-color: #E2EBFA;\n",
              "      --hover-fill-color: #174EA6;\n",
              "      --disabled-fill-color: #AAA;\n",
              "      --disabled-bg-color: #DDD;\n",
              "  }\n",
              "\n",
              "  [theme=dark] .colab-df-quickchart {\n",
              "      --bg-color: #3B4455;\n",
              "      --fill-color: #D2E3FC;\n",
              "      --hover-bg-color: #434B5C;\n",
              "      --hover-fill-color: #FFFFFF;\n",
              "      --disabled-bg-color: #3B4455;\n",
              "      --disabled-fill-color: #666;\n",
              "  }\n",
              "\n",
              "  .colab-df-quickchart {\n",
              "    background-color: var(--bg-color);\n",
              "    border: none;\n",
              "    border-radius: 50%;\n",
              "    cursor: pointer;\n",
              "    display: none;\n",
              "    fill: var(--fill-color);\n",
              "    height: 32px;\n",
              "    padding: 0;\n",
              "    width: 32px;\n",
              "  }\n",
              "\n",
              "  .colab-df-quickchart:hover {\n",
              "    background-color: var(--hover-bg-color);\n",
              "    box-shadow: 0 1px 2px rgba(60, 64, 67, 0.3), 0 1px 3px 1px rgba(60, 64, 67, 0.15);\n",
              "    fill: var(--button-hover-fill-color);\n",
              "  }\n",
              "\n",
              "  .colab-df-quickchart-complete:disabled,\n",
              "  .colab-df-quickchart-complete:disabled:hover {\n",
              "    background-color: var(--disabled-bg-color);\n",
              "    fill: var(--disabled-fill-color);\n",
              "    box-shadow: none;\n",
              "  }\n",
              "\n",
              "  .colab-df-spinner {\n",
              "    border: 2px solid var(--fill-color);\n",
              "    border-color: transparent;\n",
              "    border-bottom-color: var(--fill-color);\n",
              "    animation:\n",
              "      spin 1s steps(1) infinite;\n",
              "  }\n",
              "\n",
              "  @keyframes spin {\n",
              "    0% {\n",
              "      border-color: transparent;\n",
              "      border-bottom-color: var(--fill-color);\n",
              "      border-left-color: var(--fill-color);\n",
              "    }\n",
              "    20% {\n",
              "      border-color: transparent;\n",
              "      border-left-color: var(--fill-color);\n",
              "      border-top-color: var(--fill-color);\n",
              "    }\n",
              "    30% {\n",
              "      border-color: transparent;\n",
              "      border-left-color: var(--fill-color);\n",
              "      border-top-color: var(--fill-color);\n",
              "      border-right-color: var(--fill-color);\n",
              "    }\n",
              "    40% {\n",
              "      border-color: transparent;\n",
              "      border-right-color: var(--fill-color);\n",
              "      border-top-color: var(--fill-color);\n",
              "    }\n",
              "    60% {\n",
              "      border-color: transparent;\n",
              "      border-right-color: var(--fill-color);\n",
              "    }\n",
              "    80% {\n",
              "      border-color: transparent;\n",
              "      border-right-color: var(--fill-color);\n",
              "      border-bottom-color: var(--fill-color);\n",
              "    }\n",
              "    90% {\n",
              "      border-color: transparent;\n",
              "      border-bottom-color: var(--fill-color);\n",
              "    }\n",
              "  }\n",
              "</style>\n",
              "\n",
              "  <script>\n",
              "    async function quickchart(key) {\n",
              "      const quickchartButtonEl =\n",
              "        document.querySelector('#' + key + ' button');\n",
              "      quickchartButtonEl.disabled = true;  // To prevent multiple clicks.\n",
              "      quickchartButtonEl.classList.add('colab-df-spinner');\n",
              "      try {\n",
              "        const charts = await google.colab.kernel.invokeFunction(\n",
              "            'suggestCharts', [key], {});\n",
              "      } catch (error) {\n",
              "        console.error('Error during call to suggestCharts:', error);\n",
              "      }\n",
              "      quickchartButtonEl.classList.remove('colab-df-spinner');\n",
              "      quickchartButtonEl.classList.add('colab-df-quickchart-complete');\n",
              "    }\n",
              "    (() => {\n",
              "      let quickchartButtonEl =\n",
              "        document.querySelector('#df-53a990b1-d472-4031-a586-043031841615 button');\n",
              "      quickchartButtonEl.style.display =\n",
              "        google.colab.kernel.accessAllowed ? 'block' : 'none';\n",
              "    })();\n",
              "  </script>\n",
              "</div>\n",
              "\n",
              "    </div>\n",
              "  </div>\n"
            ],
            "text/plain": [
              "          a         b         c         d         e         f    g\n",
              "0  1.890590  1.863750  1.484208  1.135377  1.215388  7.589315  LT8\n",
              "1  1.607869  1.266549  1.385781  1.575057  1.273743  7.108998  LT8\n",
              "2  1.059931  1.078402  1.842477  1.581445  1.566748  7.129003  LT8\n",
              "3  1.794032  1.533014  1.987149  1.805952  1.782036  8.902183  GT8\n",
              "4  1.099954  1.897730  1.320124  1.500220  1.440560  7.258589  LT8"
            ]
          },
          "execution_count": 11,
          "metadata": {},
          "output_type": "execute_result"
        }
      ],
      "source": [
        "df.insert(5, 'f', df.sum(axis=1))\n",
        "df['g'] = np.where(df['f'] < 8, \"LT8\", \"GT8\")\n",
        "\n",
        "df.head()"
      ]
    },
    {
      "cell_type": "code",
      "execution_count": null,
      "metadata": {
        "colab": {
          "base_uri": "https://localhost:8080/"
        },
        "id": "cl6evEOESPfi",
        "outputId": "b4d36ada-29d0-4c4a-8a81-7ff8b7afc9c5"
      },
      "outputs": [
        {
          "name": "stdout",
          "output_type": "stream",
          "text": [
            "0.6691186611738176\n",
            "0.48180794690479234\n",
            "0.3494041562835272\n"
          ]
        }
      ],
      "source": [
        "print(df['f'].std())\n",
        "print(df[df['g']==\"LT8\"]['f'].std())\n",
        "print(df[df['g']==\"GT8\"]['f'].std())"
      ]
    },
    {
      "cell_type": "markdown",
      "metadata": {
        "id": "MZkT5LLsU1PG"
      },
      "source": [
        "**Q12. Write a small piece of code to explain broadcasting in numpy.**"
      ]
    },
    {
      "cell_type": "code",
      "execution_count": null,
      "metadata": {
        "id": "gUye3BgQU9uD"
      },
      "outputs": [],
      "source": [
        "import numpy as np\n",
        "\n",
        "# create a 2d array\n",
        "array_2d = np.array([\n",
        "    [1, 2, 3],\n",
        "    [4, 5, 6],\n",
        "    [7, 8, 9]\n",
        "])\n",
        "\n",
        "# create a 1d array\n",
        "array_1d = np.array([10, 20, 30])\n",
        "\n",
        "# because of broadcasting, the one dimensional array is added to all rows of the 2d array\n",
        "result = array_2d + array_1d\n",
        "\n",
        "print(\"2D Array:\\n\", array_2d)\n",
        "print(\"1D Array:\\n\", array_1d)\n",
        "print(\"Result of Broadcasting:\\n\", result)"
      ]
    },
    {
      "cell_type": "markdown",
      "metadata": {
        "id": "ZvUK7_NzU3yH"
      },
      "source": [
        "**Q13. Write a function to compute the argmin of a numpy array. The function should take a numpy array as input and return the index of the minimum element. You can use the np.argmin function to verify your solution.**"
      ]
    },
    {
      "cell_type": "code",
      "execution_count": null,
      "metadata": {
        "colab": {
          "base_uri": "https://localhost:8080/"
        },
        "id": "O--6SouVskU8",
        "outputId": "e7299535-5d0e-46eb-f815-331167e77daa"
      },
      "outputs": [
        {
          "name": "stdout",
          "output_type": "stream",
          "text": [
            "[4, 0, 1]\n",
            "(4, 0, 1)\n"
          ]
        }
      ],
      "source": [
        "import numpy as np\n",
        "from random import randint\n",
        "\n",
        "def argmin(npArray):\n",
        "    dms = np.shape(npArray)\n",
        "    minEl = np.ravel(npArray)[0]\n",
        "    minIdx = [0 for _ in range(len(dms))]\n",
        "    for indices, value in np.ndenumerate(npArray):\n",
        "        if value < minEl:\n",
        "            minEl = value\n",
        "            minIdx = list(indices)\n",
        "    return minIdx\n",
        "\n",
        "dims = randint(3, 6)\n",
        "shape = tuple(randint(4, 6) for _ in range(dims))\n",
        "\n",
        "arr = np.random.rand(*shape)\n",
        "\n",
        "print(argmin(arr))\n",
        "print(np.unravel_index(np.argmin(arr), arr.shape))\n"
      ]
    }
  ],
  "metadata": {
    "colab": {
      "provenance": []
    },
    "kernelspec": {
      "display_name": "Python 3",
      "name": "python3"
    },
    "language_info": {
      "name": "python"
    }
  },
  "nbformat": 4,
  "nbformat_minor": 0
}
